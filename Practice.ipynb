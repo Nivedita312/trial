{
 "cells": [
  {
   "cell_type": "code",
   "execution_count": 37,
   "metadata": {},
   "outputs": [],
   "source": [
    "import pandas as pd\n"
   ]
  },
  {
   "cell_type": "code",
   "execution_count": 38,
   "metadata": {},
   "outputs": [],
   "source": [
    "customers = pd.read_csv('Customers.csv')"
   ]
  },
  {
   "cell_type": "code",
   "execution_count": 39,
   "metadata": {},
   "outputs": [],
   "source": [
    "orders = pd.read_csv('Orders.csv')"
   ]
  },
  {
   "cell_type": "code",
   "execution_count": 40,
   "metadata": {},
   "outputs": [],
   "source": [
    "transactions =pd.read_csv('transactions.csv')\n"
   ]
  },
  {
   "cell_type": "code",
   "execution_count": 41,
   "metadata": {},
   "outputs": [],
   "source": [
    "merged_data=pd.merge(transactions,orders,on='order_id')"
   ]
  },
  {
   "cell_type": "code",
   "execution_count": 42,
   "metadata": {},
   "outputs": [],
   "source": [
    "merged_data=pd.merge(merged_data,customers,on='customer_id')"
   ]
  },
  {
   "cell_type": "code",
   "execution_count": 43,
   "metadata": {},
   "outputs": [],
   "source": [
    "# Filter orders with high-value transactions (sales > 150)\n",
    "\n",
    "high_value_transactions = merged_data[merged_data['sales'] > 150]\n"
   ]
  },
  {
   "cell_type": "code",
   "execution_count": 44,
   "metadata": {},
   "outputs": [
    {
     "name": "stdout",
     "output_type": "stream",
     "text": [
      "            order_id customer_id    sales\n",
      "0     CA-2016-152156    JB-15925  261.960\n",
      "1     CA-2016-152156    JB-15925  731.940\n",
      "6     CA-2014-124730    JB-15925  279.960\n",
      "12    US-2014-109456    JB-15925  179.970\n",
      "13    CA-2016-152765    JB-15925  173.488\n",
      "...              ...         ...      ...\n",
      "9808  CA-2017-165008    MV-18190  295.056\n",
      "9810  CA-2017-118003    MV-18190  182.220\n",
      "9811  CA-2017-118003    MV-18190  302.940\n",
      "9812  CA-2017-102309    MV-18190  199.950\n",
      "9815  US-2015-100069    MV-18190  269.980\n",
      "\n",
      "[3024 rows x 3 columns]\n"
     ]
    }
   ],
   "source": [
    "result_df=high_value_transactions[['order_id','customer_id','sales']]\n",
    "print(result_df)"
   ]
  },
  {
   "cell_type": "code",
   "execution_count": 45,
   "metadata": {},
   "outputs": [
    {
     "name": "stdout",
     "output_type": "stream",
     "text": [
      "     customer_id    sales\n",
      "0       JB-15925  261.960\n",
      "1       JB-15925  731.940\n",
      "6       JB-15925  279.960\n",
      "12      JB-15925  179.970\n",
      "13      JB-15925  173.488\n",
      "...          ...      ...\n",
      "9808    MV-18190  295.056\n",
      "9810    MV-18190  182.220\n",
      "9811    MV-18190  302.940\n",
      "9812    MV-18190  199.950\n",
      "9815    MV-18190  269.980\n",
      "\n",
      "[3024 rows x 2 columns]\n"
     ]
    }
   ],
   "source": [
    "result_df1 = high_value_transactions[['customer_id','sales']]\n",
    "print(result_df1)"
   ]
  }
 ],
 "metadata": {
  "kernelspec": {
   "display_name": "Python 3.10.6 64-bit",
   "language": "python",
   "name": "python3"
  },
  "language_info": {
   "codemirror_mode": {
    "name": "ipython",
    "version": 3
   },
   "file_extension": ".py",
   "mimetype": "text/x-python",
   "name": "python",
   "nbconvert_exporter": "python",
   "pygments_lexer": "ipython3",
   "version": "3.10.6"
  },
  "orig_nbformat": 4,
  "vscode": {
   "interpreter": {
    "hash": "3196968d684371006099b3d55edeef8ed90365227a30deaef86e5d4aa8519be0"
   }
  }
 },
 "nbformat": 4,
 "nbformat_minor": 2
}
