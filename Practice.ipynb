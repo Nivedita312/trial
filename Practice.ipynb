{
 "cells": [
  {
   "cell_type": "code",
   "execution_count": 55,
   "metadata": {},
   "outputs": [],
   "source": [
    "import pandas as pd\n"
   ]
  },
  {
   "cell_type": "code",
   "execution_count": 56,
   "metadata": {},
   "outputs": [],
   "source": [
    "customers = pd.read_csv('Customers.csv')"
   ]
  },
  {
   "cell_type": "code",
   "execution_count": 57,
   "metadata": {},
   "outputs": [],
   "source": [
    "orders = pd.read_csv('Orders.csv')"
   ]
  },
  {
   "cell_type": "code",
   "execution_count": 58,
   "metadata": {},
   "outputs": [],
   "source": [
    "transactions =pd.read_csv('transactions.csv')\n"
   ]
  },
  {
   "cell_type": "code",
   "execution_count": 59,
   "metadata": {},
   "outputs": [],
   "source": [
    "merged_data=pd.merge(transactions,orders,on='order_id')"
   ]
  },
  {
   "cell_type": "code",
   "execution_count": 60,
   "metadata": {},
   "outputs": [],
   "source": [
    "merged_data=pd.merge(merged_data,customers,on='customer_id')"
   ]
  },
  {
   "cell_type": "code",
   "execution_count": 61,
   "metadata": {},
   "outputs": [],
   "source": [
    "# Replace null values in customer_date \n",
    "\n",
    "merged_data['order_delivered_customer_date'] = merged_data['order_delivered_customer_date'].fillna(merged_data['order_estimated_delivery_date'])\n",
    "\n"
   ]
  },
  {
   "cell_type": "code",
   "execution_count": 62,
   "metadata": {},
   "outputs": [],
   "source": [
    "# Filter high-value transactions (sales amount > threshold) and non-null customer_date\n",
    "\n",
    "high_value_orders = merged_data[(merged_data['sales'] > 250) & (merged_data['order_delivered_customer_date'].notnull())]\n"
   ]
  },
  {
   "cell_type": "code",
   "execution_count": 63,
   "metadata": {},
   "outputs": [
    {
     "name": "stderr",
     "output_type": "stream",
     "text": [
      "C:\\Users\\Administrator\\AppData\\Local\\Temp\\2\\ipykernel_5760\\2982310646.py:1: UserWarning: The argument 'infer_datetime_format' is deprecated and will be removed in a future version. A strict version of it is now the default, see https://pandas.pydata.org/pdeps/0004-consistent-to-datetime-parsing.html. You can safely remove this argument.\n",
      "  high_value_orders['order_delivered_customer_date'] = pd.to_datetime(high_value_orders['order_delivered_customer_date'], errors='coerce', infer_datetime_format=True)\n",
      "C:\\Users\\Administrator\\AppData\\Local\\Temp\\2\\ipykernel_5760\\2982310646.py:1: SettingWithCopyWarning: \n",
      "A value is trying to be set on a copy of a slice from a DataFrame.\n",
      "Try using .loc[row_indexer,col_indexer] = value instead\n",
      "\n",
      "See the caveats in the documentation: https://pandas.pydata.org/pandas-docs/stable/user_guide/indexing.html#returning-a-view-versus-a-copy\n",
      "  high_value_orders['order_delivered_customer_date'] = pd.to_datetime(high_value_orders['order_delivered_customer_date'], errors='coerce', infer_datetime_format=True)\n",
      "C:\\Users\\Administrator\\AppData\\Local\\Temp\\2\\ipykernel_5760\\2982310646.py:3: SettingWithCopyWarning: \n",
      "A value is trying to be set on a copy of a slice from a DataFrame.\n",
      "Try using .loc[row_indexer,col_indexer] = value instead\n",
      "\n",
      "See the caveats in the documentation: https://pandas.pydata.org/pandas-docs/stable/user_guide/indexing.html#returning-a-view-versus-a-copy\n",
      "  high_value_orders['month_year'] = high_value_orders['order_delivered_customer_date'].dt.to_period(\"M\")\n"
     ]
    }
   ],
   "source": [
    "high_value_orders['order_delivered_customer_date'] = pd.to_datetime(high_value_orders['order_delivered_customer_date'], errors='coerce', infer_datetime_format=True)\n",
    "\n",
    "high_value_orders['month_year'] = high_value_orders['order_delivered_customer_date'].dt.to_period(\"M\")"
   ]
  },
  {
   "cell_type": "code",
   "execution_count": 64,
   "metadata": {},
   "outputs": [
    {
     "name": "stdout",
     "output_type": "stream",
     "text": [
      "            order_id customer_id    sales month_year\n",
      "0     CA-2016-152156    JB-15925  261.960    2018-01\n",
      "1     CA-2016-152156    JB-15925  731.940    2018-01\n",
      "6     CA-2014-124730    JB-15925  279.960    2017-09\n",
      "19    CA-2016-114104    NP-18670  944.930    2018-06\n",
      "25    CA-2017-168389    NP-18670  721.875    2017-10\n",
      "...              ...         ...      ...        ...\n",
      "9788  US-2016-142685    JS-15595  835.170    2017-10\n",
      "9797  CA-2014-124618    JS-15595  479.984    2018-08\n",
      "9808  CA-2017-165008    MV-18190  295.056    2018-01\n",
      "9811  CA-2017-118003    MV-18190  302.940    2018-05\n",
      "9815  US-2015-100069    MV-18190  269.980    2018-01\n",
      "\n",
      "[2155 rows x 4 columns]\n"
     ]
    }
   ],
   "source": [
    "# Create a DataFrame with order_id, customer_id, sales_amount, and month_year for high-value transactions\n",
    "\n",
    "result_df = high_value_orders[['order_id', 'customer_id', 'sales', 'month_year']]\n",
    "\n",
    "# Display the result in tabular format\n",
    "\n",
    "print(result_df)\n"
   ]
  }
 ],
 "metadata": {
  "kernelspec": {
   "display_name": "Python 3.10.6 64-bit",
   "language": "python",
   "name": "python3"
  },
  "language_info": {
   "codemirror_mode": {
    "name": "ipython",
    "version": 3
   },
   "file_extension": ".py",
   "mimetype": "text/x-python",
   "name": "python",
   "nbconvert_exporter": "python",
   "pygments_lexer": "ipython3",
   "version": "3.10.6"
  },
  "orig_nbformat": 4,
  "vscode": {
   "interpreter": {
    "hash": "3196968d684371006099b3d55edeef8ed90365227a30deaef86e5d4aa8519be0"
   }
  }
 },
 "nbformat": 4,
 "nbformat_minor": 2
}
